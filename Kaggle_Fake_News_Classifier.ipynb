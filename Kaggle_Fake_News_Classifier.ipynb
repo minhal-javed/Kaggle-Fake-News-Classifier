{
  "nbformat": 4,
  "nbformat_minor": 0,
  "metadata": {
    "colab": {
      "name": "Kaggle Fake News Classifier.ipynb",
      "provenance": [],
      "collapsed_sections": []
    },
    "kernelspec": {
      "name": "python3",
      "display_name": "Python 3"
    }
  },
  "cells": [
    {
      "cell_type": "code",
      "metadata": {
        "colab": {
          "base_uri": "https://localhost:8080/"
        },
        "id": "Y3cbHwtOzTG1",
        "outputId": "a72f6d87-6272-4909-8b9b-5ac5d0ca7ce4"
      },
      "source": [
        "from google.colab import drive\n",
        "drive.mount('/content/drive')\n"
      ],
      "execution_count": null,
      "outputs": [
        {
          "output_type": "stream",
          "text": [
            "Mounted at /content/drive\n"
          ],
          "name": "stdout"
        }
      ]
    },
    {
      "cell_type": "code",
      "metadata": {
        "id": "MfM_Pe8RzzZZ"
      },
      "source": [
        "import os\n",
        "os.chdir('/content/drive/My Drive/Colab Notebooks/')"
      ],
      "execution_count": null,
      "outputs": []
    },
    {
      "cell_type": "code",
      "metadata": {
        "id": "FPnWZ9zr0-Tl"
      },
      "source": [
        "import pandas as pd\n",
        "import numpy as np\n"
      ],
      "execution_count": null,
      "outputs": []
    },
    {
      "cell_type": "code",
      "metadata": {
        "id": "cCgxL8NI0oXv"
      },
      "source": [
        "data=pd.read_csv('fake news/fake-news.zip/train.csv')"
      ],
      "execution_count": null,
      "outputs": []
    },
    {
      "cell_type": "code",
      "metadata": {
        "colab": {
          "base_uri": "https://localhost:8080/",
          "height": 197
        },
        "id": "NRBDWO_O08Jr",
        "outputId": "7fa440d1-c50e-4eff-ff9d-a275c2ce7996"
      },
      "source": [
        "data.head()"
      ],
      "execution_count": null,
      "outputs": [
        {
          "output_type": "execute_result",
          "data": {
            "text/html": [
              "<div>\n",
              "<style scoped>\n",
              "    .dataframe tbody tr th:only-of-type {\n",
              "        vertical-align: middle;\n",
              "    }\n",
              "\n",
              "    .dataframe tbody tr th {\n",
              "        vertical-align: top;\n",
              "    }\n",
              "\n",
              "    .dataframe thead th {\n",
              "        text-align: right;\n",
              "    }\n",
              "</style>\n",
              "<table border=\"1\" class=\"dataframe\">\n",
              "  <thead>\n",
              "    <tr style=\"text-align: right;\">\n",
              "      <th></th>\n",
              "      <th>id</th>\n",
              "      <th>title</th>\n",
              "      <th>author</th>\n",
              "      <th>text</th>\n",
              "      <th>label</th>\n",
              "    </tr>\n",
              "  </thead>\n",
              "  <tbody>\n",
              "    <tr>\n",
              "      <th>0</th>\n",
              "      <td>0</td>\n",
              "      <td>House Dem Aide: We Didn’t Even See Comey’s Let...</td>\n",
              "      <td>Darrell Lucus</td>\n",
              "      <td>House Dem Aide: We Didn’t Even See Comey’s Let...</td>\n",
              "      <td>1</td>\n",
              "    </tr>\n",
              "    <tr>\n",
              "      <th>1</th>\n",
              "      <td>1</td>\n",
              "      <td>FLYNN: Hillary Clinton, Big Woman on Campus - ...</td>\n",
              "      <td>Daniel J. Flynn</td>\n",
              "      <td>Ever get the feeling your life circles the rou...</td>\n",
              "      <td>0</td>\n",
              "    </tr>\n",
              "    <tr>\n",
              "      <th>2</th>\n",
              "      <td>2</td>\n",
              "      <td>Why the Truth Might Get You Fired</td>\n",
              "      <td>Consortiumnews.com</td>\n",
              "      <td>Why the Truth Might Get You Fired October 29, ...</td>\n",
              "      <td>1</td>\n",
              "    </tr>\n",
              "    <tr>\n",
              "      <th>3</th>\n",
              "      <td>3</td>\n",
              "      <td>15 Civilians Killed In Single US Airstrike Hav...</td>\n",
              "      <td>Jessica Purkiss</td>\n",
              "      <td>Videos 15 Civilians Killed In Single US Airstr...</td>\n",
              "      <td>1</td>\n",
              "    </tr>\n",
              "    <tr>\n",
              "      <th>4</th>\n",
              "      <td>4</td>\n",
              "      <td>Iranian woman jailed for fictional unpublished...</td>\n",
              "      <td>Howard Portnoy</td>\n",
              "      <td>Print \\nAn Iranian woman has been sentenced to...</td>\n",
              "      <td>1</td>\n",
              "    </tr>\n",
              "  </tbody>\n",
              "</table>\n",
              "</div>"
            ],
            "text/plain": [
              "   id  ... label\n",
              "0   0  ...     1\n",
              "1   1  ...     0\n",
              "2   2  ...     1\n",
              "3   3  ...     1\n",
              "4   4  ...     1\n",
              "\n",
              "[5 rows x 5 columns]"
            ]
          },
          "metadata": {
            "tags": []
          },
          "execution_count": 11
        }
      ]
    },
    {
      "cell_type": "code",
      "metadata": {
        "colab": {
          "base_uri": "https://localhost:8080/",
          "height": 406
        },
        "id": "kCFurNev43GQ",
        "outputId": "81c369b3-4013-4c39-c21c-1521bc072326"
      },
      "source": [
        "data.isna()"
      ],
      "execution_count": null,
      "outputs": [
        {
          "output_type": "execute_result",
          "data": {
            "text/html": [
              "<div>\n",
              "<style scoped>\n",
              "    .dataframe tbody tr th:only-of-type {\n",
              "        vertical-align: middle;\n",
              "    }\n",
              "\n",
              "    .dataframe tbody tr th {\n",
              "        vertical-align: top;\n",
              "    }\n",
              "\n",
              "    .dataframe thead th {\n",
              "        text-align: right;\n",
              "    }\n",
              "</style>\n",
              "<table border=\"1\" class=\"dataframe\">\n",
              "  <thead>\n",
              "    <tr style=\"text-align: right;\">\n",
              "      <th></th>\n",
              "      <th>id</th>\n",
              "      <th>title</th>\n",
              "      <th>author</th>\n",
              "      <th>text</th>\n",
              "      <th>label</th>\n",
              "    </tr>\n",
              "  </thead>\n",
              "  <tbody>\n",
              "    <tr>\n",
              "      <th>0</th>\n",
              "      <td>False</td>\n",
              "      <td>False</td>\n",
              "      <td>False</td>\n",
              "      <td>False</td>\n",
              "      <td>False</td>\n",
              "    </tr>\n",
              "    <tr>\n",
              "      <th>1</th>\n",
              "      <td>False</td>\n",
              "      <td>False</td>\n",
              "      <td>False</td>\n",
              "      <td>False</td>\n",
              "      <td>False</td>\n",
              "    </tr>\n",
              "    <tr>\n",
              "      <th>2</th>\n",
              "      <td>False</td>\n",
              "      <td>False</td>\n",
              "      <td>False</td>\n",
              "      <td>False</td>\n",
              "      <td>False</td>\n",
              "    </tr>\n",
              "    <tr>\n",
              "      <th>3</th>\n",
              "      <td>False</td>\n",
              "      <td>False</td>\n",
              "      <td>False</td>\n",
              "      <td>False</td>\n",
              "      <td>False</td>\n",
              "    </tr>\n",
              "    <tr>\n",
              "      <th>4</th>\n",
              "      <td>False</td>\n",
              "      <td>False</td>\n",
              "      <td>False</td>\n",
              "      <td>False</td>\n",
              "      <td>False</td>\n",
              "    </tr>\n",
              "    <tr>\n",
              "      <th>...</th>\n",
              "      <td>...</td>\n",
              "      <td>...</td>\n",
              "      <td>...</td>\n",
              "      <td>...</td>\n",
              "      <td>...</td>\n",
              "    </tr>\n",
              "    <tr>\n",
              "      <th>20795</th>\n",
              "      <td>False</td>\n",
              "      <td>False</td>\n",
              "      <td>False</td>\n",
              "      <td>False</td>\n",
              "      <td>False</td>\n",
              "    </tr>\n",
              "    <tr>\n",
              "      <th>20796</th>\n",
              "      <td>False</td>\n",
              "      <td>False</td>\n",
              "      <td>False</td>\n",
              "      <td>False</td>\n",
              "      <td>False</td>\n",
              "    </tr>\n",
              "    <tr>\n",
              "      <th>20797</th>\n",
              "      <td>False</td>\n",
              "      <td>False</td>\n",
              "      <td>False</td>\n",
              "      <td>False</td>\n",
              "      <td>False</td>\n",
              "    </tr>\n",
              "    <tr>\n",
              "      <th>20798</th>\n",
              "      <td>False</td>\n",
              "      <td>False</td>\n",
              "      <td>False</td>\n",
              "      <td>False</td>\n",
              "      <td>False</td>\n",
              "    </tr>\n",
              "    <tr>\n",
              "      <th>20799</th>\n",
              "      <td>False</td>\n",
              "      <td>False</td>\n",
              "      <td>False</td>\n",
              "      <td>False</td>\n",
              "      <td>False</td>\n",
              "    </tr>\n",
              "  </tbody>\n",
              "</table>\n",
              "<p>20800 rows × 5 columns</p>\n",
              "</div>"
            ],
            "text/plain": [
              "          id  title  author   text  label\n",
              "0      False  False   False  False  False\n",
              "1      False  False   False  False  False\n",
              "2      False  False   False  False  False\n",
              "3      False  False   False  False  False\n",
              "4      False  False   False  False  False\n",
              "...      ...    ...     ...    ...    ...\n",
              "20795  False  False   False  False  False\n",
              "20796  False  False   False  False  False\n",
              "20797  False  False   False  False  False\n",
              "20798  False  False   False  False  False\n",
              "20799  False  False   False  False  False\n",
              "\n",
              "[20800 rows x 5 columns]"
            ]
          },
          "metadata": {
            "tags": []
          },
          "execution_count": 12
        }
      ]
    },
    {
      "cell_type": "code",
      "metadata": {
        "id": "IL6iSWP_46jn"
      },
      "source": [
        "data.dropna(inplace=True)"
      ],
      "execution_count": null,
      "outputs": []
    },
    {
      "cell_type": "code",
      "metadata": {
        "colab": {
          "base_uri": "https://localhost:8080/",
          "height": 197
        },
        "id": "8vC0ZoUB4-Ou",
        "outputId": "a2d68d09-5ae2-4505-b2a4-0af288edd70e"
      },
      "source": [
        "data.head()"
      ],
      "execution_count": null,
      "outputs": [
        {
          "output_type": "execute_result",
          "data": {
            "text/html": [
              "<div>\n",
              "<style scoped>\n",
              "    .dataframe tbody tr th:only-of-type {\n",
              "        vertical-align: middle;\n",
              "    }\n",
              "\n",
              "    .dataframe tbody tr th {\n",
              "        vertical-align: top;\n",
              "    }\n",
              "\n",
              "    .dataframe thead th {\n",
              "        text-align: right;\n",
              "    }\n",
              "</style>\n",
              "<table border=\"1\" class=\"dataframe\">\n",
              "  <thead>\n",
              "    <tr style=\"text-align: right;\">\n",
              "      <th></th>\n",
              "      <th>id</th>\n",
              "      <th>title</th>\n",
              "      <th>author</th>\n",
              "      <th>text</th>\n",
              "      <th>label</th>\n",
              "    </tr>\n",
              "  </thead>\n",
              "  <tbody>\n",
              "    <tr>\n",
              "      <th>0</th>\n",
              "      <td>0</td>\n",
              "      <td>House Dem Aide: We Didn’t Even See Comey’s Let...</td>\n",
              "      <td>Darrell Lucus</td>\n",
              "      <td>House Dem Aide: We Didn’t Even See Comey’s Let...</td>\n",
              "      <td>1</td>\n",
              "    </tr>\n",
              "    <tr>\n",
              "      <th>1</th>\n",
              "      <td>1</td>\n",
              "      <td>FLYNN: Hillary Clinton, Big Woman on Campus - ...</td>\n",
              "      <td>Daniel J. Flynn</td>\n",
              "      <td>Ever get the feeling your life circles the rou...</td>\n",
              "      <td>0</td>\n",
              "    </tr>\n",
              "    <tr>\n",
              "      <th>2</th>\n",
              "      <td>2</td>\n",
              "      <td>Why the Truth Might Get You Fired</td>\n",
              "      <td>Consortiumnews.com</td>\n",
              "      <td>Why the Truth Might Get You Fired October 29, ...</td>\n",
              "      <td>1</td>\n",
              "    </tr>\n",
              "    <tr>\n",
              "      <th>3</th>\n",
              "      <td>3</td>\n",
              "      <td>15 Civilians Killed In Single US Airstrike Hav...</td>\n",
              "      <td>Jessica Purkiss</td>\n",
              "      <td>Videos 15 Civilians Killed In Single US Airstr...</td>\n",
              "      <td>1</td>\n",
              "    </tr>\n",
              "    <tr>\n",
              "      <th>4</th>\n",
              "      <td>4</td>\n",
              "      <td>Iranian woman jailed for fictional unpublished...</td>\n",
              "      <td>Howard Portnoy</td>\n",
              "      <td>Print \\nAn Iranian woman has been sentenced to...</td>\n",
              "      <td>1</td>\n",
              "    </tr>\n",
              "  </tbody>\n",
              "</table>\n",
              "</div>"
            ],
            "text/plain": [
              "   id  ... label\n",
              "0   0  ...     1\n",
              "1   1  ...     0\n",
              "2   2  ...     1\n",
              "3   3  ...     1\n",
              "4   4  ...     1\n",
              "\n",
              "[5 rows x 5 columns]"
            ]
          },
          "metadata": {
            "tags": []
          },
          "execution_count": 14
        }
      ]
    },
    {
      "cell_type": "code",
      "metadata": {
        "colab": {
          "base_uri": "https://localhost:8080/",
          "height": 406
        },
        "id": "oVkBUpoI5Adu",
        "outputId": "80a9340a-798f-473c-dce7-a6a085cde575"
      },
      "source": [
        "# getting independent features\n",
        "x=data.drop('label',axis=1) \n",
        "x"
      ],
      "execution_count": null,
      "outputs": [
        {
          "output_type": "execute_result",
          "data": {
            "text/html": [
              "<div>\n",
              "<style scoped>\n",
              "    .dataframe tbody tr th:only-of-type {\n",
              "        vertical-align: middle;\n",
              "    }\n",
              "\n",
              "    .dataframe tbody tr th {\n",
              "        vertical-align: top;\n",
              "    }\n",
              "\n",
              "    .dataframe thead th {\n",
              "        text-align: right;\n",
              "    }\n",
              "</style>\n",
              "<table border=\"1\" class=\"dataframe\">\n",
              "  <thead>\n",
              "    <tr style=\"text-align: right;\">\n",
              "      <th></th>\n",
              "      <th>id</th>\n",
              "      <th>title</th>\n",
              "      <th>author</th>\n",
              "      <th>text</th>\n",
              "    </tr>\n",
              "  </thead>\n",
              "  <tbody>\n",
              "    <tr>\n",
              "      <th>0</th>\n",
              "      <td>0</td>\n",
              "      <td>House Dem Aide: We Didn’t Even See Comey’s Let...</td>\n",
              "      <td>Darrell Lucus</td>\n",
              "      <td>House Dem Aide: We Didn’t Even See Comey’s Let...</td>\n",
              "    </tr>\n",
              "    <tr>\n",
              "      <th>1</th>\n",
              "      <td>1</td>\n",
              "      <td>FLYNN: Hillary Clinton, Big Woman on Campus - ...</td>\n",
              "      <td>Daniel J. Flynn</td>\n",
              "      <td>Ever get the feeling your life circles the rou...</td>\n",
              "    </tr>\n",
              "    <tr>\n",
              "      <th>2</th>\n",
              "      <td>2</td>\n",
              "      <td>Why the Truth Might Get You Fired</td>\n",
              "      <td>Consortiumnews.com</td>\n",
              "      <td>Why the Truth Might Get You Fired October 29, ...</td>\n",
              "    </tr>\n",
              "    <tr>\n",
              "      <th>3</th>\n",
              "      <td>3</td>\n",
              "      <td>15 Civilians Killed In Single US Airstrike Hav...</td>\n",
              "      <td>Jessica Purkiss</td>\n",
              "      <td>Videos 15 Civilians Killed In Single US Airstr...</td>\n",
              "    </tr>\n",
              "    <tr>\n",
              "      <th>4</th>\n",
              "      <td>4</td>\n",
              "      <td>Iranian woman jailed for fictional unpublished...</td>\n",
              "      <td>Howard Portnoy</td>\n",
              "      <td>Print \\nAn Iranian woman has been sentenced to...</td>\n",
              "    </tr>\n",
              "    <tr>\n",
              "      <th>...</th>\n",
              "      <td>...</td>\n",
              "      <td>...</td>\n",
              "      <td>...</td>\n",
              "      <td>...</td>\n",
              "    </tr>\n",
              "    <tr>\n",
              "      <th>20795</th>\n",
              "      <td>20795</td>\n",
              "      <td>Rapper T.I.: Trump a ’Poster Child For White S...</td>\n",
              "      <td>Jerome Hudson</td>\n",
              "      <td>Rapper T. I. unloaded on black celebrities who...</td>\n",
              "    </tr>\n",
              "    <tr>\n",
              "      <th>20796</th>\n",
              "      <td>20796</td>\n",
              "      <td>N.F.L. Playoffs: Schedule, Matchups and Odds -...</td>\n",
              "      <td>Benjamin Hoffman</td>\n",
              "      <td>When the Green Bay Packers lost to the Washing...</td>\n",
              "    </tr>\n",
              "    <tr>\n",
              "      <th>20797</th>\n",
              "      <td>20797</td>\n",
              "      <td>Macy’s Is Said to Receive Takeover Approach by...</td>\n",
              "      <td>Michael J. de la Merced and Rachel Abrams</td>\n",
              "      <td>The Macy’s of today grew from the union of sev...</td>\n",
              "    </tr>\n",
              "    <tr>\n",
              "      <th>20798</th>\n",
              "      <td>20798</td>\n",
              "      <td>NATO, Russia To Hold Parallel Exercises In Bal...</td>\n",
              "      <td>Alex Ansary</td>\n",
              "      <td>NATO, Russia To Hold Parallel Exercises In Bal...</td>\n",
              "    </tr>\n",
              "    <tr>\n",
              "      <th>20799</th>\n",
              "      <td>20799</td>\n",
              "      <td>What Keeps the F-35 Alive</td>\n",
              "      <td>David Swanson</td>\n",
              "      <td>David Swanson is an author, activist, journa...</td>\n",
              "    </tr>\n",
              "  </tbody>\n",
              "</table>\n",
              "<p>18285 rows × 4 columns</p>\n",
              "</div>"
            ],
            "text/plain": [
              "          id  ...                                               text\n",
              "0          0  ...  House Dem Aide: We Didn’t Even See Comey’s Let...\n",
              "1          1  ...  Ever get the feeling your life circles the rou...\n",
              "2          2  ...  Why the Truth Might Get You Fired October 29, ...\n",
              "3          3  ...  Videos 15 Civilians Killed In Single US Airstr...\n",
              "4          4  ...  Print \\nAn Iranian woman has been sentenced to...\n",
              "...      ...  ...                                                ...\n",
              "20795  20795  ...  Rapper T. I. unloaded on black celebrities who...\n",
              "20796  20796  ...  When the Green Bay Packers lost to the Washing...\n",
              "20797  20797  ...  The Macy’s of today grew from the union of sev...\n",
              "20798  20798  ...  NATO, Russia To Hold Parallel Exercises In Bal...\n",
              "20799  20799  ...    David Swanson is an author, activist, journa...\n",
              "\n",
              "[18285 rows x 4 columns]"
            ]
          },
          "metadata": {
            "tags": []
          },
          "execution_count": 19
        }
      ]
    },
    {
      "cell_type": "code",
      "metadata": {
        "colab": {
          "base_uri": "https://localhost:8080/"
        },
        "id": "pzIroNjc5KoU",
        "outputId": "be742e2e-f0fa-49bf-aa15-6f117b4f47ef"
      },
      "source": [
        "# dependent features\n",
        "y=data['label']\n",
        "y"
      ],
      "execution_count": null,
      "outputs": [
        {
          "output_type": "execute_result",
          "data": {
            "text/plain": [
              "0        1\n",
              "1        0\n",
              "2        1\n",
              "3        1\n",
              "4        1\n",
              "        ..\n",
              "20795    0\n",
              "20796    0\n",
              "20797    0\n",
              "20798    1\n",
              "20799    1\n",
              "Name: label, Length: 18285, dtype: int64"
            ]
          },
          "metadata": {
            "tags": []
          },
          "execution_count": 20
        }
      ]
    },
    {
      "cell_type": "code",
      "metadata": {
        "colab": {
          "base_uri": "https://localhost:8080/"
        },
        "id": "qg1seqrf5xve",
        "outputId": "4d94f1ae-28ba-463f-c909-ab325e3bd10f"
      },
      "source": [
        "x.shape,y.shape"
      ],
      "execution_count": null,
      "outputs": [
        {
          "output_type": "execute_result",
          "data": {
            "text/plain": [
              "((18285, 4), (18285,))"
            ]
          },
          "metadata": {
            "tags": []
          },
          "execution_count": 21
        }
      ]
    },
    {
      "cell_type": "code",
      "metadata": {
        "id": "Z5Pi-nK351g9"
      },
      "source": [
        "import tensorflow as tf\n",
        "from tensorflow.keras.layers import Embedding,LSTM,Dense\n",
        "from tensorflow.keras.models import Sequential\n",
        "from tensorflow.keras.preprocessing.sequence import pad_sequences\n",
        "from tensorflow.keras.preprocessing.text import  one_hot\n",
        "\n"
      ],
      "execution_count": null,
      "outputs": []
    },
    {
      "cell_type": "markdown",
      "metadata": {
        "id": "6DWzu63b80FP"
      },
      "source": [
        "## One Hot Encoding"
      ]
    },
    {
      "cell_type": "code",
      "metadata": {
        "id": "JZXlxoOV6rbm"
      },
      "source": [
        "voc_size=5000\n",
        "messages=x"
      ],
      "execution_count": null,
      "outputs": []
    },
    {
      "cell_type": "code",
      "metadata": {
        "colab": {
          "base_uri": "https://localhost:8080/",
          "height": 197
        },
        "id": "nh0fBEdl9U4v",
        "outputId": "d9802bcd-cc33-4cd1-d6a6-ae06769697ab"
      },
      "source": [
        "messages.head()"
      ],
      "execution_count": null,
      "outputs": [
        {
          "output_type": "execute_result",
          "data": {
            "text/html": [
              "<div>\n",
              "<style scoped>\n",
              "    .dataframe tbody tr th:only-of-type {\n",
              "        vertical-align: middle;\n",
              "    }\n",
              "\n",
              "    .dataframe tbody tr th {\n",
              "        vertical-align: top;\n",
              "    }\n",
              "\n",
              "    .dataframe thead th {\n",
              "        text-align: right;\n",
              "    }\n",
              "</style>\n",
              "<table border=\"1\" class=\"dataframe\">\n",
              "  <thead>\n",
              "    <tr style=\"text-align: right;\">\n",
              "      <th></th>\n",
              "      <th>id</th>\n",
              "      <th>title</th>\n",
              "      <th>author</th>\n",
              "      <th>text</th>\n",
              "    </tr>\n",
              "  </thead>\n",
              "  <tbody>\n",
              "    <tr>\n",
              "      <th>0</th>\n",
              "      <td>0</td>\n",
              "      <td>House Dem Aide: We Didn’t Even See Comey’s Let...</td>\n",
              "      <td>Darrell Lucus</td>\n",
              "      <td>House Dem Aide: We Didn’t Even See Comey’s Let...</td>\n",
              "    </tr>\n",
              "    <tr>\n",
              "      <th>1</th>\n",
              "      <td>1</td>\n",
              "      <td>FLYNN: Hillary Clinton, Big Woman on Campus - ...</td>\n",
              "      <td>Daniel J. Flynn</td>\n",
              "      <td>Ever get the feeling your life circles the rou...</td>\n",
              "    </tr>\n",
              "    <tr>\n",
              "      <th>2</th>\n",
              "      <td>2</td>\n",
              "      <td>Why the Truth Might Get You Fired</td>\n",
              "      <td>Consortiumnews.com</td>\n",
              "      <td>Why the Truth Might Get You Fired October 29, ...</td>\n",
              "    </tr>\n",
              "    <tr>\n",
              "      <th>3</th>\n",
              "      <td>3</td>\n",
              "      <td>15 Civilians Killed In Single US Airstrike Hav...</td>\n",
              "      <td>Jessica Purkiss</td>\n",
              "      <td>Videos 15 Civilians Killed In Single US Airstr...</td>\n",
              "    </tr>\n",
              "    <tr>\n",
              "      <th>4</th>\n",
              "      <td>4</td>\n",
              "      <td>Iranian woman jailed for fictional unpublished...</td>\n",
              "      <td>Howard Portnoy</td>\n",
              "      <td>Print \\nAn Iranian woman has been sentenced to...</td>\n",
              "    </tr>\n",
              "  </tbody>\n",
              "</table>\n",
              "</div>"
            ],
            "text/plain": [
              "   id  ...                                               text\n",
              "0   0  ...  House Dem Aide: We Didn’t Even See Comey’s Let...\n",
              "1   1  ...  Ever get the feeling your life circles the rou...\n",
              "2   2  ...  Why the Truth Might Get You Fired October 29, ...\n",
              "3   3  ...  Videos 15 Civilians Killed In Single US Airstr...\n",
              "4   4  ...  Print \\nAn Iranian woman has been sentenced to...\n",
              "\n",
              "[5 rows x 4 columns]"
            ]
          },
          "metadata": {
            "tags": []
          },
          "execution_count": 24
        }
      ]
    },
    {
      "cell_type": "code",
      "metadata": {
        "id": "HeI8RSPW9Wr3"
      },
      "source": [
        "messages.reset_index(inplace=True)"
      ],
      "execution_count": null,
      "outputs": []
    },
    {
      "cell_type": "code",
      "metadata": {
        "colab": {
          "base_uri": "https://localhost:8080/",
          "height": 197
        },
        "id": "N0cG1iAs9jmd",
        "outputId": "a104dcc8-b217-4499-886d-a085cb26c84c"
      },
      "source": [
        "messages.head()"
      ],
      "execution_count": null,
      "outputs": [
        {
          "output_type": "execute_result",
          "data": {
            "text/html": [
              "<div>\n",
              "<style scoped>\n",
              "    .dataframe tbody tr th:only-of-type {\n",
              "        vertical-align: middle;\n",
              "    }\n",
              "\n",
              "    .dataframe tbody tr th {\n",
              "        vertical-align: top;\n",
              "    }\n",
              "\n",
              "    .dataframe thead th {\n",
              "        text-align: right;\n",
              "    }\n",
              "</style>\n",
              "<table border=\"1\" class=\"dataframe\">\n",
              "  <thead>\n",
              "    <tr style=\"text-align: right;\">\n",
              "      <th></th>\n",
              "      <th>index</th>\n",
              "      <th>id</th>\n",
              "      <th>title</th>\n",
              "      <th>author</th>\n",
              "      <th>text</th>\n",
              "    </tr>\n",
              "  </thead>\n",
              "  <tbody>\n",
              "    <tr>\n",
              "      <th>0</th>\n",
              "      <td>0</td>\n",
              "      <td>0</td>\n",
              "      <td>House Dem Aide: We Didn’t Even See Comey’s Let...</td>\n",
              "      <td>Darrell Lucus</td>\n",
              "      <td>House Dem Aide: We Didn’t Even See Comey’s Let...</td>\n",
              "    </tr>\n",
              "    <tr>\n",
              "      <th>1</th>\n",
              "      <td>1</td>\n",
              "      <td>1</td>\n",
              "      <td>FLYNN: Hillary Clinton, Big Woman on Campus - ...</td>\n",
              "      <td>Daniel J. Flynn</td>\n",
              "      <td>Ever get the feeling your life circles the rou...</td>\n",
              "    </tr>\n",
              "    <tr>\n",
              "      <th>2</th>\n",
              "      <td>2</td>\n",
              "      <td>2</td>\n",
              "      <td>Why the Truth Might Get You Fired</td>\n",
              "      <td>Consortiumnews.com</td>\n",
              "      <td>Why the Truth Might Get You Fired October 29, ...</td>\n",
              "    </tr>\n",
              "    <tr>\n",
              "      <th>3</th>\n",
              "      <td>3</td>\n",
              "      <td>3</td>\n",
              "      <td>15 Civilians Killed In Single US Airstrike Hav...</td>\n",
              "      <td>Jessica Purkiss</td>\n",
              "      <td>Videos 15 Civilians Killed In Single US Airstr...</td>\n",
              "    </tr>\n",
              "    <tr>\n",
              "      <th>4</th>\n",
              "      <td>4</td>\n",
              "      <td>4</td>\n",
              "      <td>Iranian woman jailed for fictional unpublished...</td>\n",
              "      <td>Howard Portnoy</td>\n",
              "      <td>Print \\nAn Iranian woman has been sentenced to...</td>\n",
              "    </tr>\n",
              "  </tbody>\n",
              "</table>\n",
              "</div>"
            ],
            "text/plain": [
              "   index  ...                                               text\n",
              "0      0  ...  House Dem Aide: We Didn’t Even See Comey’s Let...\n",
              "1      1  ...  Ever get the feeling your life circles the rou...\n",
              "2      2  ...  Why the Truth Might Get You Fired October 29, ...\n",
              "3      3  ...  Videos 15 Civilians Killed In Single US Airstr...\n",
              "4      4  ...  Print \\nAn Iranian woman has been sentenced to...\n",
              "\n",
              "[5 rows x 5 columns]"
            ]
          },
          "metadata": {
            "tags": []
          },
          "execution_count": 26
        }
      ]
    },
    {
      "cell_type": "code",
      "metadata": {
        "id": "IbJX198c9l-E"
      },
      "source": [
        "import nltk\n",
        "import re\n",
        "from nltk.corpus import stopwords"
      ],
      "execution_count": null,
      "outputs": []
    },
    {
      "cell_type": "code",
      "metadata": {
        "colab": {
          "base_uri": "https://localhost:8080/"
        },
        "id": "TeswLoXP9954",
        "outputId": "1f5c2918-8142-4c30-dfd1-504a4ab2f8a1"
      },
      "source": [
        "nltk.download('stopwords')\n"
      ],
      "execution_count": null,
      "outputs": [
        {
          "output_type": "stream",
          "text": [
            "[nltk_data] Downloading package stopwords to /root/nltk_data...\n",
            "[nltk_data]   Unzipping corpora/stopwords.zip.\n"
          ],
          "name": "stdout"
        },
        {
          "output_type": "execute_result",
          "data": {
            "text/plain": [
              "True"
            ]
          },
          "metadata": {
            "tags": []
          },
          "execution_count": 28
        }
      ]
    },
    {
      "cell_type": "code",
      "metadata": {
        "id": "G4OAXSUN-ll5"
      },
      "source": [
        "from nltk.stem.porter import PorterStemmer\n",
        "ps = PorterStemmer()\n",
        "corpus = []\n",
        "for i in range(0, len(messages)):\n",
        "    review = re.sub('[^a-zA-Z]', ' ', messages['title'][i])\n",
        "    review = review.lower()\n",
        "    review = review.split()\n",
        "    \n",
        "    review = [ps.stem(word) for word in review if not word in stopwords.words('english')]\n",
        "    review = ' '.join(review)\n",
        "    corpus.append(review)"
      ],
      "execution_count": null,
      "outputs": []
    },
    {
      "cell_type": "code",
      "metadata": {
        "colab": {
          "base_uri": "https://localhost:8080/"
        },
        "id": "BN_dnbXZ_8ba",
        "outputId": "e306e439-fb0b-4ed1-fc84-2b9d4f7fb279"
      },
      "source": [
        "len(corpus)"
      ],
      "execution_count": null,
      "outputs": [
        {
          "output_type": "execute_result",
          "data": {
            "text/plain": [
              "18285"
            ]
          },
          "metadata": {
            "tags": []
          },
          "execution_count": 32
        }
      ]
    },
    {
      "cell_type": "code",
      "metadata": {
        "id": "9LNOIxpQBSJW"
      },
      "source": [
        "one_hot_word=[one_hot(word,voc_size) for word in corpus]"
      ],
      "execution_count": null,
      "outputs": []
    },
    {
      "cell_type": "code",
      "metadata": {
        "colab": {
          "base_uri": "https://localhost:8080/"
        },
        "id": "bU91tcEmB8R8",
        "outputId": "9712dc00-4a22-4e64-8939-248d59b23571"
      },
      "source": [
        "one_hot_word[18000]"
      ],
      "execution_count": null,
      "outputs": [
        {
          "output_type": "execute_result",
          "data": {
            "text/plain": [
              "[704, 4076, 3524, 4708, 2156, 3156, 1349, 648, 1302, 3996, 1190]"
            ]
          },
          "metadata": {
            "tags": []
          },
          "execution_count": 36
        }
      ]
    },
    {
      "cell_type": "markdown",
      "metadata": {
        "id": "rpHG_htJCIEA"
      },
      "source": [
        "# **Model**"
      ]
    },
    {
      "cell_type": "code",
      "metadata": {
        "colab": {
          "base_uri": "https://localhost:8080/"
        },
        "id": "lO2uM_FnCM4p",
        "outputId": "93aa80df-c12d-4eb6-bb2a-a6261f332026"
      },
      "source": [
        "sent_length=30\n",
        "embedded_docs=pad_sequences(one_hot_word,padding='pre',maxlen=sent_length)\n",
        "print(embedded_docs)"
      ],
      "execution_count": null,
      "outputs": [
        {
          "output_type": "stream",
          "text": [
            "[[   0    0    0 ...  240 2007 4404]\n",
            " [   0    0    0 ... 4892 3527 1190]\n",
            " [   0    0    0 ...  785 4596 4249]\n",
            " ...\n",
            " [   0    0    0 ...  506 4644 2286]\n",
            " [   0    0    0 ... 1644 4689 1430]\n",
            " [   0    0    0 ... 1353 4717 1894]]\n"
          ],
          "name": "stdout"
        }
      ]
    },
    {
      "cell_type": "code",
      "metadata": {
        "colab": {
          "base_uri": "https://localhost:8080/"
        },
        "id": "NgRUhP5vCi6-",
        "outputId": "2101ccff-ec88-4dfc-f558-224c852714f2"
      },
      "source": [
        "\n",
        "## Creating model\n",
        "embedding_vector_features=40\n",
        "model=Sequential()\n",
        "model.add(Embedding(voc_size,embedding_vector_features,input_length=sent_length))\n",
        "model.add(LSTM(100))\n",
        "model.add(Dense(1,activation='sigmoid'))\n",
        "model.compile(loss='binary_crossentropy',optimizer='adam',metrics=['accuracy'])\n",
        "print(model.summary())"
      ],
      "execution_count": null,
      "outputs": [
        {
          "output_type": "stream",
          "text": [
            "Model: \"sequential\"\n",
            "_________________________________________________________________\n",
            "Layer (type)                 Output Shape              Param #   \n",
            "=================================================================\n",
            "embedding (Embedding)        (None, 30, 40)            200000    \n",
            "_________________________________________________________________\n",
            "lstm (LSTM)                  (None, 100)               56400     \n",
            "_________________________________________________________________\n",
            "dense (Dense)                (None, 1)                 101       \n",
            "=================================================================\n",
            "Total params: 256,501\n",
            "Trainable params: 256,501\n",
            "Non-trainable params: 0\n",
            "_________________________________________________________________\n",
            "None\n"
          ],
          "name": "stdout"
        }
      ]
    },
    {
      "cell_type": "code",
      "metadata": {
        "colab": {
          "base_uri": "https://localhost:8080/"
        },
        "id": "SHIW17VdFQQj",
        "outputId": "967a2358-0ee3-45f4-b199-5bcc718dd1b7"
      },
      "source": [
        "embedded_docs.shape"
      ],
      "execution_count": null,
      "outputs": [
        {
          "output_type": "execute_result",
          "data": {
            "text/plain": [
              "(18285, 30)"
            ]
          },
          "metadata": {
            "tags": []
          },
          "execution_count": 44
        }
      ]
    },
    {
      "cell_type": "code",
      "metadata": {
        "id": "mI_5rUZxEomw"
      },
      "source": [
        "X_final=np.array(embedded_docs)\n",
        "y_final=np.array(y)"
      ],
      "execution_count": null,
      "outputs": []
    },
    {
      "cell_type": "code",
      "metadata": {
        "colab": {
          "base_uri": "https://localhost:8080/"
        },
        "id": "0QG1qke3E_W7",
        "outputId": "75987d17-3cab-4c4d-f0d5-a0fd369c555f"
      },
      "source": [
        "X_final"
      ],
      "execution_count": null,
      "outputs": [
        {
          "output_type": "execute_result",
          "data": {
            "text/plain": [
              "array([[   0,    0,    0, ...,  240, 2007, 4404],\n",
              "       [   0,    0,    0, ..., 4892, 3527, 1190],\n",
              "       [   0,    0,    0, ...,  785, 4596, 4249],\n",
              "       ...,\n",
              "       [   0,    0,    0, ...,  506, 4644, 2286],\n",
              "       [   0,    0,    0, ..., 1644, 4689, 1430],\n",
              "       [   0,    0,    0, ..., 1353, 4717, 1894]], dtype=int32)"
            ]
          },
          "metadata": {
            "tags": []
          },
          "execution_count": 42
        }
      ]
    },
    {
      "cell_type": "code",
      "metadata": {
        "colab": {
          "base_uri": "https://localhost:8080/"
        },
        "id": "w9HP0MICFDSy",
        "outputId": "fe94444e-53b1-4540-8d2c-0fdeafe5ff32"
      },
      "source": [
        "X_final.shape,y_final.shape"
      ],
      "execution_count": null,
      "outputs": [
        {
          "output_type": "execute_result",
          "data": {
            "text/plain": [
              "((18285, 30), (18285,))"
            ]
          },
          "metadata": {
            "tags": []
          },
          "execution_count": 43
        }
      ]
    },
    {
      "cell_type": "code",
      "metadata": {
        "id": "RNZCYHgyFJLR"
      },
      "source": [
        "from sklearn.model_selection import train_test_split\n",
        "X_train, X_test, y_train, y_test = train_test_split(X_final, y_final, test_size=0.33, random_state=42)"
      ],
      "execution_count": null,
      "outputs": []
    },
    {
      "cell_type": "code",
      "metadata": {
        "colab": {
          "base_uri": "https://localhost:8080/"
        },
        "id": "XOvgsRq5GHcW",
        "outputId": "a0c93c9b-abec-4388-da66-35073deab435"
      },
      "source": [
        "### Finally Training\n",
        "model.fit(X_train,y_train,validation_data=(X_test,y_test),epochs=50,batch_size=64)"
      ],
      "execution_count": null,
      "outputs": [
        {
          "output_type": "stream",
          "text": [
            "Epoch 1/50\n",
            "192/192 [==============================] - 9s 46ms/step - loss: 0.3452 - accuracy: 0.8335 - val_loss: 0.2007 - val_accuracy: 0.9138\n",
            "Epoch 2/50\n",
            "192/192 [==============================] - 8s 44ms/step - loss: 0.1473 - accuracy: 0.9417 - val_loss: 0.1876 - val_accuracy: 0.9229\n",
            "Epoch 3/50\n",
            "192/192 [==============================] - 8s 44ms/step - loss: 0.1024 - accuracy: 0.9628 - val_loss: 0.1954 - val_accuracy: 0.9206\n",
            "Epoch 4/50\n",
            "192/192 [==============================] - 9s 45ms/step - loss: 0.0713 - accuracy: 0.9758 - val_loss: 0.2480 - val_accuracy: 0.9205\n",
            "Epoch 5/50\n",
            "192/192 [==============================] - 8s 44ms/step - loss: 0.0485 - accuracy: 0.9829 - val_loss: 0.2642 - val_accuracy: 0.9160\n",
            "Epoch 6/50\n",
            "192/192 [==============================] - 9s 45ms/step - loss: 0.0310 - accuracy: 0.9900 - val_loss: 0.3047 - val_accuracy: 0.9152\n",
            "Epoch 7/50\n",
            "192/192 [==============================] - 8s 44ms/step - loss: 0.0211 - accuracy: 0.9936 - val_loss: 0.3281 - val_accuracy: 0.9112\n",
            "Epoch 8/50\n",
            "192/192 [==============================] - 8s 44ms/step - loss: 0.0194 - accuracy: 0.9931 - val_loss: 0.4097 - val_accuracy: 0.9090\n",
            "Epoch 9/50\n",
            "192/192 [==============================] - 8s 44ms/step - loss: 0.0144 - accuracy: 0.9957 - val_loss: 0.3856 - val_accuracy: 0.9125\n",
            "Epoch 10/50\n",
            "192/192 [==============================] - 9s 45ms/step - loss: 0.0130 - accuracy: 0.9961 - val_loss: 0.4245 - val_accuracy: 0.9137\n",
            "Epoch 11/50\n",
            "192/192 [==============================] - 9s 45ms/step - loss: 0.0093 - accuracy: 0.9970 - val_loss: 0.4237 - val_accuracy: 0.9138\n",
            "Epoch 12/50\n",
            "192/192 [==============================] - 8s 44ms/step - loss: 0.0107 - accuracy: 0.9965 - val_loss: 0.5126 - val_accuracy: 0.9125\n",
            "Epoch 13/50\n",
            "192/192 [==============================] - 9s 44ms/step - loss: 0.0084 - accuracy: 0.9967 - val_loss: 0.4930 - val_accuracy: 0.9143\n",
            "Epoch 14/50\n",
            "192/192 [==============================] - 8s 44ms/step - loss: 0.0073 - accuracy: 0.9980 - val_loss: 0.5677 - val_accuracy: 0.9074\n",
            "Epoch 15/50\n",
            "192/192 [==============================] - 9s 45ms/step - loss: 0.0076 - accuracy: 0.9975 - val_loss: 0.5500 - val_accuracy: 0.9125\n",
            "Epoch 16/50\n",
            "192/192 [==============================] - 9s 45ms/step - loss: 0.0085 - accuracy: 0.9976 - val_loss: 0.5254 - val_accuracy: 0.9095\n",
            "Epoch 17/50\n",
            "192/192 [==============================] - 9s 45ms/step - loss: 0.0060 - accuracy: 0.9980 - val_loss: 0.5058 - val_accuracy: 0.9062\n",
            "Epoch 18/50\n",
            "192/192 [==============================] - 9s 45ms/step - loss: 0.0052 - accuracy: 0.9982 - val_loss: 0.5725 - val_accuracy: 0.9054\n",
            "Epoch 19/50\n",
            "192/192 [==============================] - 9s 45ms/step - loss: 0.0047 - accuracy: 0.9984 - val_loss: 0.5555 - val_accuracy: 0.9097\n",
            "Epoch 20/50\n",
            "192/192 [==============================] - 8s 44ms/step - loss: 0.0073 - accuracy: 0.9975 - val_loss: 0.5619 - val_accuracy: 0.9102\n",
            "Epoch 21/50\n",
            "192/192 [==============================] - 8s 44ms/step - loss: 0.0047 - accuracy: 0.9981 - val_loss: 0.6307 - val_accuracy: 0.9080\n",
            "Epoch 22/50\n",
            "192/192 [==============================] - 8s 44ms/step - loss: 0.0046 - accuracy: 0.9988 - val_loss: 0.6697 - val_accuracy: 0.9075\n",
            "Epoch 23/50\n",
            "192/192 [==============================] - 9s 45ms/step - loss: 0.0037 - accuracy: 0.9988 - val_loss: 0.6837 - val_accuracy: 0.9095\n",
            "Epoch 24/50\n",
            "192/192 [==============================] - 9s 45ms/step - loss: 0.0043 - accuracy: 0.9981 - val_loss: 0.6492 - val_accuracy: 0.9065\n",
            "Epoch 25/50\n",
            "192/192 [==============================] - 8s 44ms/step - loss: 0.0033 - accuracy: 0.9987 - val_loss: 0.6254 - val_accuracy: 0.9082\n",
            "Epoch 26/50\n",
            "192/192 [==============================] - 8s 44ms/step - loss: 0.0033 - accuracy: 0.9988 - val_loss: 0.6649 - val_accuracy: 0.9087\n",
            "Epoch 27/50\n",
            "192/192 [==============================] - 8s 44ms/step - loss: 0.0016 - accuracy: 0.9997 - val_loss: 0.7605 - val_accuracy: 0.9085\n",
            "Epoch 28/50\n",
            "192/192 [==============================] - 8s 44ms/step - loss: 0.0018 - accuracy: 0.9993 - val_loss: 0.7505 - val_accuracy: 0.9092\n",
            "Epoch 29/50\n",
            "192/192 [==============================] - 9s 44ms/step - loss: 0.0050 - accuracy: 0.9979 - val_loss: 0.6573 - val_accuracy: 0.9046\n",
            "Epoch 30/50\n",
            "192/192 [==============================] - 8s 44ms/step - loss: 0.0024 - accuracy: 0.9991 - val_loss: 0.7700 - val_accuracy: 0.9031\n",
            "Epoch 31/50\n",
            "192/192 [==============================] - 9s 44ms/step - loss: 0.0030 - accuracy: 0.9990 - val_loss: 0.7197 - val_accuracy: 0.9017\n",
            "Epoch 32/50\n",
            "192/192 [==============================] - 8s 44ms/step - loss: 0.0019 - accuracy: 0.9995 - val_loss: 0.7235 - val_accuracy: 0.9109\n",
            "Epoch 33/50\n",
            "192/192 [==============================] - 8s 44ms/step - loss: 0.0041 - accuracy: 0.9988 - val_loss: 0.6465 - val_accuracy: 0.9087\n",
            "Epoch 34/50\n",
            "192/192 [==============================] - 8s 44ms/step - loss: 0.0015 - accuracy: 0.9997 - val_loss: 0.7585 - val_accuracy: 0.9089\n",
            "Epoch 35/50\n",
            "192/192 [==============================] - 8s 44ms/step - loss: 0.0016 - accuracy: 0.9995 - val_loss: 0.7808 - val_accuracy: 0.9059\n",
            "Epoch 36/50\n",
            "192/192 [==============================] - 8s 44ms/step - loss: 0.0035 - accuracy: 0.9989 - val_loss: 0.7123 - val_accuracy: 0.9046\n",
            "Epoch 37/50\n",
            "192/192 [==============================] - 8s 44ms/step - loss: 0.0028 - accuracy: 0.9994 - val_loss: 0.6537 - val_accuracy: 0.9109\n",
            "Epoch 38/50\n",
            "192/192 [==============================] - 9s 45ms/step - loss: 0.0015 - accuracy: 0.9994 - val_loss: 0.7633 - val_accuracy: 0.9041\n",
            "Epoch 39/50\n",
            "192/192 [==============================] - 8s 44ms/step - loss: 0.0023 - accuracy: 0.9993 - val_loss: 0.7637 - val_accuracy: 0.9114\n",
            "Epoch 40/50\n",
            "192/192 [==============================] - 8s 44ms/step - loss: 0.0037 - accuracy: 0.9989 - val_loss: 0.7905 - val_accuracy: 0.9001\n",
            "Epoch 41/50\n",
            "192/192 [==============================] - 9s 44ms/step - loss: 0.0023 - accuracy: 0.9991 - val_loss: 0.7595 - val_accuracy: 0.9044\n",
            "Epoch 42/50\n",
            "192/192 [==============================] - 9s 45ms/step - loss: 0.0018 - accuracy: 0.9996 - val_loss: 0.7166 - val_accuracy: 0.9070\n",
            "Epoch 43/50\n",
            "192/192 [==============================] - 9s 44ms/step - loss: 0.0012 - accuracy: 0.9997 - val_loss: 0.7788 - val_accuracy: 0.9016\n",
            "Epoch 44/50\n",
            "192/192 [==============================] - 8s 44ms/step - loss: 0.0019 - accuracy: 0.9995 - val_loss: 0.7825 - val_accuracy: 0.9006\n",
            "Epoch 45/50\n",
            "192/192 [==============================] - 8s 44ms/step - loss: 0.0019 - accuracy: 0.9993 - val_loss: 0.7616 - val_accuracy: 0.9004\n",
            "Epoch 46/50\n",
            "192/192 [==============================] - 9s 45ms/step - loss: 0.0019 - accuracy: 0.9993 - val_loss: 0.7617 - val_accuracy: 0.9052\n",
            "Epoch 47/50\n",
            "192/192 [==============================] - 9s 45ms/step - loss: 0.0017 - accuracy: 0.9994 - val_loss: 0.7600 - val_accuracy: 0.9056\n",
            "Epoch 48/50\n",
            "192/192 [==============================] - 9s 44ms/step - loss: 0.0026 - accuracy: 0.9992 - val_loss: 0.7822 - val_accuracy: 0.9034\n",
            "Epoch 49/50\n",
            "192/192 [==============================] - 9s 44ms/step - loss: 0.0012 - accuracy: 0.9996 - val_loss: 0.7671 - val_accuracy: 0.9046\n",
            "Epoch 50/50\n",
            "192/192 [==============================] - 9s 44ms/step - loss: 0.0023 - accuracy: 0.9993 - val_loss: 0.7350 - val_accuracy: 0.9029\n"
          ],
          "name": "stdout"
        },
        {
          "output_type": "execute_result",
          "data": {
            "text/plain": [
              "<tensorflow.python.keras.callbacks.History at 0x7f12b3f92b38>"
            ]
          },
          "metadata": {
            "tags": []
          },
          "execution_count": 51
        }
      ]
    },
    {
      "cell_type": "code",
      "metadata": {
        "id": "1jmiuPLJGeES"
      },
      "source": [
        "\n",
        "from tensorflow.keras.layers import Dropout\n",
        "## Creating model\n",
        "embedding_vector_features=40\n",
        "model=Sequential()\n",
        "model.add(Embedding(voc_size,embedding_vector_features,input_length=sent_length))\n",
        "model.add(Dropout(0.3))\n",
        "model.add(LSTM(100))\n",
        "model.add(Dropout(0.3))\n",
        "model.add(Dense(1,activation='sigmoid'))\n",
        "model.compile(loss='binary_crossentropy',optimizer='adam',metrics=['accuracy'])"
      ],
      "execution_count": null,
      "outputs": []
    },
    {
      "cell_type": "code",
      "metadata": {
        "colab": {
          "base_uri": "https://localhost:8080/"
        },
        "id": "_e6PkkF4LOzL",
        "outputId": "6e11cb60-6ca0-4a0c-c7d2-144e2fc0aedf"
      },
      "source": [
        "model.fit(X_train,y_train,validation_data=(X_test,y_test),epochs=50,batch_size=64)\n"
      ],
      "execution_count": null,
      "outputs": [
        {
          "output_type": "stream",
          "text": [
            "Epoch 1/50\n",
            "192/192 [==============================] - 9s 46ms/step - loss: 0.3502 - accuracy: 0.8384 - val_loss: 0.1978 - val_accuracy: 0.9153\n",
            "Epoch 2/50\n",
            "192/192 [==============================] - 8s 44ms/step - loss: 0.1501 - accuracy: 0.9416 - val_loss: 0.1886 - val_accuracy: 0.9213\n",
            "Epoch 3/50\n",
            "192/192 [==============================] - 8s 44ms/step - loss: 0.1096 - accuracy: 0.9578 - val_loss: 0.2056 - val_accuracy: 0.9239\n",
            "Epoch 4/50\n",
            "192/192 [==============================] - 9s 45ms/step - loss: 0.0851 - accuracy: 0.9678 - val_loss: 0.2291 - val_accuracy: 0.9191\n",
            "Epoch 5/50\n",
            "192/192 [==============================] - 9s 46ms/step - loss: 0.0683 - accuracy: 0.9749 - val_loss: 0.2371 - val_accuracy: 0.9180\n",
            "Epoch 6/50\n",
            "192/192 [==============================] - 9s 44ms/step - loss: 0.0563 - accuracy: 0.9804 - val_loss: 0.2818 - val_accuracy: 0.9168\n",
            "Epoch 7/50\n",
            "192/192 [==============================] - 8s 44ms/step - loss: 0.0422 - accuracy: 0.9854 - val_loss: 0.2965 - val_accuracy: 0.9176\n",
            "Epoch 8/50\n",
            "192/192 [==============================] - 8s 44ms/step - loss: 0.0326 - accuracy: 0.9887 - val_loss: 0.3291 - val_accuracy: 0.9153\n",
            "Epoch 9/50\n",
            "192/192 [==============================] - 9s 44ms/step - loss: 0.0254 - accuracy: 0.9914 - val_loss: 0.3459 - val_accuracy: 0.9165\n",
            "Epoch 10/50\n",
            "192/192 [==============================] - 8s 44ms/step - loss: 0.0216 - accuracy: 0.9931 - val_loss: 0.4192 - val_accuracy: 0.9074\n",
            "Epoch 11/50\n",
            "192/192 [==============================] - 8s 44ms/step - loss: 0.0186 - accuracy: 0.9936 - val_loss: 0.4205 - val_accuracy: 0.9082\n",
            "Epoch 12/50\n",
            "192/192 [==============================] - 9s 45ms/step - loss: 0.0155 - accuracy: 0.9953 - val_loss: 0.4115 - val_accuracy: 0.9087\n",
            "Epoch 13/50\n",
            "192/192 [==============================] - 9s 44ms/step - loss: 0.0131 - accuracy: 0.9967 - val_loss: 0.5069 - val_accuracy: 0.9105\n",
            "Epoch 14/50\n",
            "192/192 [==============================] - 9s 45ms/step - loss: 0.0119 - accuracy: 0.9961 - val_loss: 0.4727 - val_accuracy: 0.9099\n",
            "Epoch 15/50\n",
            "192/192 [==============================] - 9s 44ms/step - loss: 0.0123 - accuracy: 0.9959 - val_loss: 0.5068 - val_accuracy: 0.9127\n",
            "Epoch 16/50\n",
            "192/192 [==============================] - 9s 45ms/step - loss: 0.0086 - accuracy: 0.9969 - val_loss: 0.4976 - val_accuracy: 0.9089\n",
            "Epoch 17/50\n",
            "192/192 [==============================] - 9s 46ms/step - loss: 0.0093 - accuracy: 0.9972 - val_loss: 0.5748 - val_accuracy: 0.9104\n",
            "Epoch 18/50\n",
            "192/192 [==============================] - 9s 45ms/step - loss: 0.0076 - accuracy: 0.9975 - val_loss: 0.5292 - val_accuracy: 0.9130\n",
            "Epoch 19/50\n",
            "192/192 [==============================] - 9s 46ms/step - loss: 0.0064 - accuracy: 0.9978 - val_loss: 0.5527 - val_accuracy: 0.9107\n",
            "Epoch 20/50\n",
            "192/192 [==============================] - 9s 46ms/step - loss: 0.0063 - accuracy: 0.9980 - val_loss: 0.5721 - val_accuracy: 0.9109\n",
            "Epoch 21/50\n",
            "192/192 [==============================] - 9s 45ms/step - loss: 0.0052 - accuracy: 0.9980 - val_loss: 0.6478 - val_accuracy: 0.9075\n",
            "Epoch 22/50\n",
            "192/192 [==============================] - 9s 45ms/step - loss: 0.0078 - accuracy: 0.9976 - val_loss: 0.5600 - val_accuracy: 0.9117\n",
            "Epoch 23/50\n",
            "192/192 [==============================] - 9s 45ms/step - loss: 0.0059 - accuracy: 0.9979 - val_loss: 0.6242 - val_accuracy: 0.9094\n",
            "Epoch 24/50\n",
            "192/192 [==============================] - 9s 45ms/step - loss: 0.0038 - accuracy: 0.9984 - val_loss: 0.6247 - val_accuracy: 0.9162\n",
            "Epoch 25/50\n",
            "192/192 [==============================] - 9s 45ms/step - loss: 0.0046 - accuracy: 0.9987 - val_loss: 0.6446 - val_accuracy: 0.9130\n",
            "Epoch 26/50\n",
            "192/192 [==============================] - 8s 44ms/step - loss: 0.0029 - accuracy: 0.9993 - val_loss: 0.7181 - val_accuracy: 0.9090\n",
            "Epoch 27/50\n",
            "192/192 [==============================] - 8s 44ms/step - loss: 0.0030 - accuracy: 0.9989 - val_loss: 0.7230 - val_accuracy: 0.9074\n",
            "Epoch 28/50\n",
            "192/192 [==============================] - 9s 44ms/step - loss: 0.0059 - accuracy: 0.9982 - val_loss: 0.6581 - val_accuracy: 0.9084\n",
            "Epoch 29/50\n",
            "192/192 [==============================] - 8s 44ms/step - loss: 0.0038 - accuracy: 0.9989 - val_loss: 0.7074 - val_accuracy: 0.9044\n",
            "Epoch 30/50\n",
            "192/192 [==============================] - 9s 46ms/step - loss: 0.0046 - accuracy: 0.9981 - val_loss: 0.7031 - val_accuracy: 0.9067\n",
            "Epoch 31/50\n",
            "192/192 [==============================] - 9s 45ms/step - loss: 0.0038 - accuracy: 0.9989 - val_loss: 0.7314 - val_accuracy: 0.9077\n",
            "Epoch 32/50\n",
            "192/192 [==============================] - 9s 45ms/step - loss: 0.0051 - accuracy: 0.9981 - val_loss: 0.7117 - val_accuracy: 0.9062\n",
            "Epoch 33/50\n",
            "192/192 [==============================] - 9s 45ms/step - loss: 0.0034 - accuracy: 0.9984 - val_loss: 0.7233 - val_accuracy: 0.9072\n",
            "Epoch 34/50\n",
            "192/192 [==============================] - 9s 45ms/step - loss: 0.0058 - accuracy: 0.9980 - val_loss: 0.6634 - val_accuracy: 0.9107\n",
            "Epoch 35/50\n",
            "192/192 [==============================] - 9s 45ms/step - loss: 0.0030 - accuracy: 0.9989 - val_loss: 0.7291 - val_accuracy: 0.9117\n",
            "Epoch 36/50\n",
            "192/192 [==============================] - 9s 45ms/step - loss: 0.0027 - accuracy: 0.9991 - val_loss: 0.6644 - val_accuracy: 0.9110\n",
            "Epoch 37/50\n",
            "192/192 [==============================] - 9s 46ms/step - loss: 0.0021 - accuracy: 0.9993 - val_loss: 0.7269 - val_accuracy: 0.9099\n",
            "Epoch 38/50\n",
            "192/192 [==============================] - 9s 47ms/step - loss: 0.0023 - accuracy: 0.9991 - val_loss: 0.8146 - val_accuracy: 0.9110\n",
            "Epoch 39/50\n",
            "192/192 [==============================] - 9s 49ms/step - loss: 0.0031 - accuracy: 0.9990 - val_loss: 0.6902 - val_accuracy: 0.9099\n",
            "Epoch 40/50\n",
            "192/192 [==============================] - 10s 50ms/step - loss: 0.0024 - accuracy: 0.9993 - val_loss: 0.7681 - val_accuracy: 0.9128\n",
            "Epoch 41/50\n",
            "192/192 [==============================] - 10s 51ms/step - loss: 0.0021 - accuracy: 0.9994 - val_loss: 0.7743 - val_accuracy: 0.9092\n",
            "Epoch 42/50\n",
            "192/192 [==============================] - 9s 48ms/step - loss: 0.0021 - accuracy: 0.9991 - val_loss: 0.7446 - val_accuracy: 0.9062\n",
            "Epoch 43/50\n",
            "192/192 [==============================] - 9s 48ms/step - loss: 0.0031 - accuracy: 0.9990 - val_loss: 0.8177 - val_accuracy: 0.9042\n",
            "Epoch 44/50\n",
            "192/192 [==============================] - 9s 46ms/step - loss: 0.0045 - accuracy: 0.9986 - val_loss: 0.7354 - val_accuracy: 0.9077\n",
            "Epoch 45/50\n",
            "192/192 [==============================] - 9s 45ms/step - loss: 0.0022 - accuracy: 0.9993 - val_loss: 0.7339 - val_accuracy: 0.9064\n",
            "Epoch 46/50\n",
            "192/192 [==============================] - 9s 45ms/step - loss: 9.5211e-04 - accuracy: 0.9996 - val_loss: 0.8034 - val_accuracy: 0.9074\n",
            "Epoch 47/50\n",
            "192/192 [==============================] - 9s 45ms/step - loss: 0.0025 - accuracy: 0.9990 - val_loss: 0.7000 - val_accuracy: 0.9056\n",
            "Epoch 48/50\n",
            "192/192 [==============================] - 8s 44ms/step - loss: 0.0013 - accuracy: 0.9996 - val_loss: 0.8077 - val_accuracy: 0.9099\n",
            "Epoch 49/50\n",
            "192/192 [==============================] - 9s 45ms/step - loss: 0.0016 - accuracy: 0.9993 - val_loss: 0.8420 - val_accuracy: 0.9074\n",
            "Epoch 50/50\n",
            "192/192 [==============================] - 9s 44ms/step - loss: 5.5523e-04 - accuracy: 0.9999 - val_loss: 0.8640 - val_accuracy: 0.9080\n"
          ],
          "name": "stdout"
        },
        {
          "output_type": "execute_result",
          "data": {
            "text/plain": [
              "<tensorflow.python.keras.callbacks.History at 0x7f12b2124860>"
            ]
          },
          "metadata": {
            "tags": []
          },
          "execution_count": 55
        }
      ]
    },
    {
      "cell_type": "code",
      "metadata": {
        "colab": {
          "base_uri": "https://localhost:8080/"
        },
        "id": "1XvgIUxzHSvZ",
        "outputId": "02316e98-3d23-430f-8560-4d8f88959b00"
      },
      "source": [
        "\n",
        "y_pred=model.predict_classes(X_test)\n",
        "\n",
        "from sklearn.metrics import confusion_matrix\n",
        "confusion_matrix(y_test,y_pred)"
      ],
      "execution_count": null,
      "outputs": [
        {
          "output_type": "execute_result",
          "data": {
            "text/plain": [
              "array([[3146,  273],\n",
              "       [ 282, 2334]])"
            ]
          },
          "metadata": {
            "tags": []
          },
          "execution_count": 56
        }
      ]
    },
    {
      "cell_type": "code",
      "metadata": {
        "colab": {
          "base_uri": "https://localhost:8080/"
        },
        "id": "vTLmxTqIHm2t",
        "outputId": "af210ff5-212b-44bd-8e80-081eebbdf600"
      },
      "source": [
        "from sklearn.metrics import accuracy_score\n",
        "accuracy_score(y_test,y_pred)\n"
      ],
      "execution_count": null,
      "outputs": [
        {
          "output_type": "execute_result",
          "data": {
            "text/plain": [
              "0.908036454018227"
            ]
          },
          "metadata": {
            "tags": []
          },
          "execution_count": 57
        }
      ]
    },
    {
      "cell_type": "code",
      "metadata": {
        "id": "xykJenU0Hyz0"
      },
      "source": [
        ""
      ],
      "execution_count": null,
      "outputs": []
    }
  ]
}